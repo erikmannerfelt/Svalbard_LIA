{
 "cells": [
  {
   "cell_type": "code",
   "execution_count": null,
   "metadata": {},
   "outputs": [
    {
     "data": {
      "text/html": [
       "<div>\n",
       "<style scoped>\n",
       "    .dataframe tbody tr th:only-of-type {\n",
       "        vertical-align: middle;\n",
       "    }\n",
       "\n",
       "    .dataframe tbody tr th {\n",
       "        vertical-align: top;\n",
       "    }\n",
       "\n",
       "    .dataframe thead th {\n",
       "        text-align: right;\n",
       "    }\n",
       "</style>\n",
       "<table border=\"1\" class=\"dataframe\">\n",
       "  <thead>\n",
       "    <tr style=\"text-align: right;\">\n",
       "      <th></th>\n",
       "      <th>glacier</th>\n",
       "      <th>start</th>\n",
       "      <th>end</th>\n",
       "      <th>duration</th>\n",
       "    </tr>\n",
       "  </thead>\n",
       "  <tbody>\n",
       "    <tr>\n",
       "      <th>11</th>\n",
       "      <td>A Lovenbreen</td>\n",
       "      <td>1892.0</td>\n",
       "      <td>1907.0</td>\n",
       "      <td>15</td>\n",
       "    </tr>\n",
       "    <tr>\n",
       "      <th>14</th>\n",
       "      <td>Birgerbreen</td>\n",
       "      <td>1872.0</td>\n",
       "      <td>1907.0</td>\n",
       "      <td>35</td>\n",
       "    </tr>\n",
       "    <tr>\n",
       "      <th>15</th>\n",
       "      <td>Nordenskioldbreen</td>\n",
       "      <td>1896.0</td>\n",
       "      <td>1908.0</td>\n",
       "      <td>12</td>\n",
       "    </tr>\n",
       "    <tr>\n",
       "      <th>16</th>\n",
       "      <td>Tunabreen</td>\n",
       "      <td>1896.0</td>\n",
       "      <td>1908.0</td>\n",
       "      <td>12</td>\n",
       "    </tr>\n",
       "    <tr>\n",
       "      <th>17</th>\n",
       "      <td>Paulabreen</td>\n",
       "      <td>1897.0</td>\n",
       "      <td>1914.0</td>\n",
       "      <td>17</td>\n",
       "    </tr>\n",
       "  </tbody>\n",
       "</table>\n",
       "</div>"
      ],
      "text/plain": [
       "              glacier   start     end  duration\n",
       "11       A Lovenbreen  1892.0  1907.0        15\n",
       "14        Birgerbreen  1872.0  1907.0        35\n",
       "15  Nordenskioldbreen  1896.0  1908.0        12\n",
       "16          Tunabreen  1896.0  1908.0        12\n",
       "17         Paulabreen  1897.0  1914.0        17"
      ]
     },
     "execution_count": 2,
     "metadata": {},
     "output_type": "execute_result"
    }
   ],
   "source": [
    "import pandas as pd\n",
    "import matplotlib.pyplot as plt\n",
    "import numpy as np\n",
    "\n",
    "%matplotlib inline\n",
    "\n",
    "data = pd.read_csv(\"input/terminus_retreats.csv\").dropna()\n",
    "data[\"duration\"] = (data[\"end\"] - data[\"start\"]).astype(int)\n",
    "data.tail()"
   ]
  },
  {
   "cell_type": "code",
   "execution_count": 36,
   "metadata": {},
   "outputs": [
    {
     "data": {
      "image/png": "[encoded data removed]",
      "text/plain": [
       "<matplotlib.figure.Figure at 0x2974b24e9b0>"
      ]
     },
     "metadata": {},
     "output_type": "display_data"
    }
   ],
   "source": [
    "plt.barh(y=data.glacier, height=0.5, left=data[\"start\"], width=data[\"duration\"], zorder=2)\n",
    "\n",
    "plt.xlim((1860, 1920))\n",
    "plt.grid(axis=\"y\", zorder=1)\n",
    "plt.subplots_adjust(left=0.24)\n",
    "plt.savefig(\"temp\", dpi=300)"
   ]
  }
 ],
 "metadata": {
  "kernelspec": {
   "display_name": "Python 3",
   "language": "python",
   "name": "python3"
  },
  "language_info": {
   "codemirror_mode": {
    "name": "ipython",
    "version": 3
   },
   "file_extension": ".py",
   "mimetype": "text/x-python",
   "name": "python",
   "nbconvert_exporter": "python",
   "pygments_lexer": "ipython3",
   "version": "3.6.4"
  }
 },
 "nbformat": 4,
 "nbformat_minor": 2
}
